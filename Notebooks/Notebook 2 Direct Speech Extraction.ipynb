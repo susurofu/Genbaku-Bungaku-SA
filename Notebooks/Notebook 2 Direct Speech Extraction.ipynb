{
 "cells": [
  {
   "cell_type": "markdown",
   "metadata": {},
   "source": [
    "# Notebook 2: Direct Speech Extraction\n",
    "\n",
    "In this notebook, direct speech was extracted. We used the basic assumption that in Japanese texts, direct speech is enclosed in quotation marks 「」. This corresponds with the standards of modern Japanese language. Other marks such as 『』 and 〈〉 are used for emphasis, proper names, or book titles, for example.\n",
    "\n",
    "For European languages, Byszuk et al. estimated rule-based direct speech extraction. For languages with clear typographic conventions, like English, the regex-based system achieved high precision and recall (around 0.98 and 0.99, respectively). We can expect robust results with Japanese, as its direct speech marking is well-conventionalized.\n"
   ]
  },
  {
   "cell_type": "code",
   "execution_count": 20,
   "metadata": {},
   "outputs": [],
   "source": [
    "import os\n",
    "import re\n",
    "import random"
   ]
  },
  {
   "cell_type": "markdown",
   "metadata": {},
   "source": [
    "This regex sufficies the convention of marking direct speech in the modern Japanese language."
   ]
  },
  {
   "cell_type": "code",
   "execution_count": 21,
   "metadata": {},
   "outputs": [],
   "source": [
    "def ds_extract(input_text:str):\n",
    "    \"\"\"extracts direct speech from an input text\"\"\"\n",
    "    pattern = r'「(.*?)」'\n",
    "    direct_speech = re.findall(pattern, input_text, re.DOTALL)\n",
    "    return \"\\n\".join(direct_speech)"
   ]
  },
  {
   "cell_type": "markdown",
   "metadata": {},
   "source": [
    "Here, the corpus of extracted direct speech is composed."
   ]
  },
  {
   "cell_type": "code",
   "execution_count": null,
   "metadata": {},
   "outputs": [],
   "source": [
    "folders = os.listdir(\"preprocessed_texts\")\n",
    "for subfolder in folders:\n",
    "    if not os.path.exists(f\"direct speech\\\\{subfolder}\"):\n",
    "        os.makedirs(f\"direct speech\\\\{subfolder}\")\n",
    "    \n",
    "    subfolder_files = os.listdir(f\"preprocessed_texts\\\\{subfolder}\")\n",
    "    for doc in subfolder_files:\n",
    "        with open(f\"preprocessed_texts\\\\{subfolder}\\\\{doc}\", encoding=\"utf-8\") as file:\n",
    "            text = file.read()\n",
    "        direct_speech = ds_extract(text)   \n",
    "        with open(f\"direct speech\\\\{subfolder}\\\\{doc}\", encoding=\"utf-8\", mode=\"w\") as file:\n",
    "            file.write(direct_speech)"
   ]
  },
  {
   "cell_type": "markdown",
   "metadata": {},
   "source": [
    "Random sampling of direct speech from the entire corpus. 2 lines from each text."
   ]
  },
  {
   "cell_type": "code",
   "execution_count": 23,
   "metadata": {},
   "outputs": [],
   "source": [
    "def random_ds(input_text:str):\n",
    "    \"returns two random direct speech sentences if the length is above 2\"\n",
    "    sents = input_text.split(\"\\n\")\n",
    "    if len(sents) > 4:\n",
    "        return random.sample(sents,4)\n",
    "    else:\n",
    "        return sents\n",
    " "
   ]
  },
  {
   "cell_type": "code",
   "execution_count": 24,
   "metadata": {},
   "outputs": [],
   "source": [
    "random_sampling =[]\n",
    "folders = os.listdir(f\"direct speech\")\n",
    "for folder in folders:\n",
    "    files = os.listdir(f\"direct speech\\\\{folder}\")\n",
    "    for doc in files:\n",
    "        with open (f\"direct speech\\\\{folder}\\\\{doc}\", encoding=\"utf-8\") as file:\n",
    "            text = file.read()\n",
    "        random_sampling += random_ds(text)\n",
    "with open (\"direct speech sampling JA new.txt\", encoding=\"utf-8\", mode=\"w\") as file:\n",
    "    file.write(\"\\n\".join(random_sampling))"
   ]
  },
  {
   "cell_type": "code",
   "execution_count": 26,
   "metadata": {},
   "outputs": [],
   "source": [
    "def aus_extract(input_text:str):\n",
    "    \"\"\"extracts author's speech from an input text\"\"\"\n",
    "    pattern = r'「(.*?)」'\n",
    "    pre_author_speech = re.sub(pattern, \"\", text)\n",
    "    author_speech = re.sub(\"\\n\\n\",\"\\n\",pre_author_speech)\n",
    "    return author_speech\n",
    "    "
   ]
  },
  {
   "cell_type": "code",
   "execution_count": 27,
   "metadata": {},
   "outputs": [],
   "source": [
    "folders = os.listdir(\"preprocessed_texts\")\n",
    "for subfolder in folders:\n",
    "    if not os.path.exists(f\"author's speech\\\\{subfolder}\"):\n",
    "        os.makedirs(f\"author's speech\\\\{subfolder}\")\n",
    "    \n",
    "    subfolder_files = os.listdir(f\"preprocessed_texts\\\\{subfolder}\")\n",
    "    for doc in subfolder_files:\n",
    "        with open(f\"preprocessed_texts\\\\{subfolder}\\\\{doc}\", encoding=\"utf-8\") as file:\n",
    "            text = file.read()\n",
    "        direct_speech = aus_extract(text)   \n",
    "        with open(f\"author's speech\\\\{subfolder}\\\\{doc}\", encoding=\"utf-8\", mode=\"w\") as file:\n",
    "            file.write(direct_speech)\n"
   ]
  },
  {
   "cell_type": "markdown",
   "metadata": {},
   "source": [
    "random sampling of author's speech"
   ]
  },
  {
   "cell_type": "code",
   "execution_count": 28,
   "metadata": {},
   "outputs": [],
   "source": [
    "def random_aus(input_text:str):\n",
    "    \"returns two random author's speech sentences if the length is above 2\"\n",
    "    sents = input_text.split(\"\\n\")\n",
    "    if len(sents) > 4:\n",
    "        return random.sample(sents, 4)\n",
    "    else:\n",
    "        return sents"
   ]
  },
  {
   "cell_type": "code",
   "execution_count": 29,
   "metadata": {},
   "outputs": [],
   "source": [
    "random_sampling =[]\n",
    "folders = os.listdir(f\"author's speech\")\n",
    "for folder in folders:\n",
    "    files = os.listdir(f\"author's speech\\\\{folder}\")\n",
    "    for doc in files:\n",
    "        with open (f\"author's speech\\\\{folder}\\\\{doc}\", encoding=\"utf-8\") as file:\n",
    "            text = file.read()\n",
    "        random_sampling += random_aus(text)\n",
    "with open (\"author's speech sampling JA new.txt\", encoding=\"utf-8\", mode=\"w\") as file:\n",
    "    file.write(\"\\n\".join(random_sampling))"
   ]
  },
  {
   "cell_type": "markdown",
   "metadata": {},
   "source": [
    "### References\n",
    "Byszuk, Joanna, et al. “Detecting Direct Speech in Multilingual Collection of 19th-Century Novels.” Proceedings of 1st Workshop on Language Technologies for Historical and Ancient Languages, European Language Resources Association, 2020, pp. 100–04.\n"
   ]
  }
 ],
 "metadata": {
  "kernelspec": {
   "display_name": "sentijap",
   "language": "python",
   "name": "python3"
  },
  "language_info": {
   "codemirror_mode": {
    "name": "ipython",
    "version": 3
   },
   "file_extension": ".py",
   "mimetype": "text/x-python",
   "name": "python",
   "nbconvert_exporter": "python",
   "pygments_lexer": "ipython3",
   "version": "3.11.9"
  }
 },
 "nbformat": 4,
 "nbformat_minor": 2
}
